{
 "cells": [
  {
   "cell_type": "code",
   "execution_count": 18,
   "metadata": {},
   "outputs": [
    {
     "name": "stdout",
     "output_type": "stream",
     "text": [
      "What's your name?  Aishwarya Rai Bachan\n",
      "Given Name :    Aishwarya Rai Bachan\n",
      "After Reversing the name : Bachan  Rai  Aishwarya  "
     ]
    }
   ],
   "source": [
    "# PYTHON: Session 1: Assignment 3 \n",
    "# Program to accept the user's first and last name and then getting them\n",
    "# printed in the the reverse order with a space between first name and last name.\n",
    "\n",
    "# Input a name\n",
    "name = input(\"What's your name?\")\n",
    "\n",
    "# Split the name by blank space and store the results in a list.\n",
    "nameList = name.split()\n",
    "\n",
    "# Making the logic more generic - instead of restricting to only \n",
    "# first and last name, even if the input contains multiple names,\n",
    "# this program will reverse that name.\n",
    "# Get the length of the name list.\n",
    "\n",
    "list_len = len(nameList)\n",
    "\n",
    "# Index starts from 0 and ends at one less than length of the list.\n",
    "index = list_len-1\n",
    "print(\"Given Name : \", name)\n",
    "print(\"After Reversing the name : \", end=\"\")\n",
    "while index >= 0:\n",
    "    print(nameList[index],\" \", end=\"\")\n",
    "    index = index - 1"
   ]
  },
  {
   "cell_type": "code",
   "execution_count": null,
   "metadata": {},
   "outputs": [],
   "source": []
  }
 ],
 "metadata": {
  "kernelspec": {
   "display_name": "Python 3",
   "language": "python",
   "name": "python3"
  },
  "language_info": {
   "codemirror_mode": {
    "name": "ipython",
    "version": 3
   },
   "file_extension": ".py",
   "mimetype": "text/x-python",
   "name": "python",
   "nbconvert_exporter": "python",
   "pygments_lexer": "ipython3",
   "version": "3.6.4"
  }
 },
 "nbformat": 4,
 "nbformat_minor": 2
}
